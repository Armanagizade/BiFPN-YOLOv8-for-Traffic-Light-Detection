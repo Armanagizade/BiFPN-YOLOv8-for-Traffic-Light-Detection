{
 "cells": [
  {
   "cell_type": "code",
   "execution_count": 1,
   "id": "03e30e7d-e94d-4cc7-b938-d75076219080",
   "metadata": {},
   "outputs": [],
   "source": [
    "import pandas as pd\n",
    "import os\n",
    "from PIL import Image\n"
   ]
  },
  {
   "cell_type": "code",
   "execution_count": 3,
   "id": "f2f5aa76-b9b7-4f0a-b4c2-879b8b33716d",
   "metadata": {},
   "outputs": [],
   "source": [
    "csv_path = 'data/sample-dayClip6/sample-dayClip6/frameAnnotationsBOX.csv'\n",
    "images_dir = 'data_arman/valid/images/'"
   ]
  },
  {
   "cell_type": "code",
   "execution_count": 4,
   "id": "db9e62f4-d30c-4812-9641-5038197b939b",
   "metadata": {},
   "outputs": [],
   "source": [
    "output_labels_dir = 'data_arman/valid/labels/'"
   ]
  },
  {
   "cell_type": "code",
   "execution_count": 5,
   "id": "d57a7708-0e4b-47b0-850c-753178e395c6",
   "metadata": {},
   "outputs": [],
   "source": [
    "os.makedirs(output_labels_dir, exist_ok=True)"
   ]
  },
  {
   "cell_type": "code",
   "execution_count": 6,
   "id": "3f73f40d-6143-4fab-8feb-f5c360d6d761",
   "metadata": {},
   "outputs": [],
   "source": [
    "df = pd.read_csv(csv_path, sep=';')"
   ]
  },
  {
   "cell_type": "code",
   "execution_count": 7,
   "id": "4efb3deb-b263-4960-ac87-62a44c40daf4",
   "metadata": {},
   "outputs": [],
   "source": [
    "def convert_bbox_to_yolo(image_width, image_height, x_min, y_min, x_max, y_max):\n",
    "    x_center = (x_min + x_max) / 2 / image_width\n",
    "    y_center = (y_min + y_max) / 2 / image_height\n",
    "    width = (x_max - x_min) / image_width\n",
    "    height = (y_max - y_min) / image_height\n",
    "    return x_center, y_center, width, height"
   ]
  },
  {
   "cell_type": "code",
   "execution_count": null,
   "id": "b367d0b2-51eb-4865-bda2-9ca50233efb2",
   "metadata": {},
   "outputs": [],
   "source": []
  },
  {
   "cell_type": "code",
   "execution_count": 8,
   "id": "1e3c154f-19ca-4f4c-957c-a2656dd3120a",
   "metadata": {},
   "outputs": [],
   "source": [
    "category_mapping = {'go': 0,\n",
    " 'stop': 1,\n",
    " 'stopLeft': 2,\n",
    " 'warning': 3,\n",
    " 'goLeft': 4,\n",
    " 'warningLeft': 5}"
   ]
  },
  {
   "cell_type": "code",
   "execution_count": 10,
   "id": "d5a96df7-fbe0-4e01-bad9-8cc0a1966b08",
   "metadata": {},
   "outputs": [],
   "source": [
    "image_dir = 'data_arman/valid/images/'\n",
    "for image_file in os.listdir(image_dir):\n",
    "    \n",
    "    if image_file.endswith(('.jpg', '.png')):  # Adjust extensions if needed\n",
    "        label_file = os.path.join(output_labels_dir, image_file.rsplit('.', 1)[0] + '.txt')\n",
    "        open(label_file, 'w').close()  # Create an empty .txt file\n"
   ]
  },
  {
   "cell_type": "code",
   "execution_count": 15,
   "id": "92d7b493-1b51-486a-9249-78f86f38d8de",
   "metadata": {},
   "outputs": [],
   "source": [
    "for index, row in df.iterrows():\n",
    "    # Extract data\n",
    "    filename = row['Filename'].split('/')[1]\n",
    "    class_name = row['Annotation tag']\n",
    "    x_min = row['Upper left corner X']\n",
    "    y_min = row['Upper left corner Y']\n",
    "    x_max = row['Lower right corner X']\n",
    "    y_max = row['Lower right corner Y']\n",
    "    \n",
    "    # Get image dimensions\n",
    "    image_path = os.path.join(images_dir, filename)\n",
    "    with Image.open(image_path) as img:\n",
    "        image_width, image_height = img.size\n",
    "\n",
    "    # Convert bbox to YOLO format\n",
    "    x_center, y_center, width, height = convert_bbox_to_yolo(image_width, image_height, x_min, y_min, x_max, y_max)\n",
    "\n",
    "    # Get class ID (you need to map `class_name` to an integer ID)\n",
    "    class_id = category_mapping[class_name]  # Replace this with your actual class mapping logic\n",
    "\n",
    "    # Prepare YOLO annotation line\n",
    "    yolo_line = f\"{class_id} {x_center:.6f} {y_center:.6f} {width:.6f} {height:.6f}\\n\"\n",
    "\n",
    "    # Write to corresponding `.txt` file\n",
    "    label_file_path = os.path.join(output_labels_dir, filename.replace('.jpg', '.txt').replace('.png', '.txt'))\n",
    "    with open(label_file_path, 'a') as f:  # Append if multiple objects per image\n",
    "        f.write(yolo_line)"
   ]
  },
  {
   "cell_type": "code",
   "execution_count": 20,
   "id": "5d8e8587-1d38-4717-9188-cdce68ef54e7",
   "metadata": {},
   "outputs": [],
   "source": [
    "yaml_content = \"\"\"\n",
    "train: /data_arman/train/train/\n",
    "val: /data_arman/valid/images/\n",
    "\n",
    "nc: 5  # Number of classes\n",
    "names: ['stop', 'go', 'warning', 'warningLeft', 'stopLeft']  # Class names\n",
    "\"\"\"\n",
    "\n",
    "with open('data_arman/dataset.yaml', 'w') as f:\n",
    "    f.write(yaml_content)\n"
   ]
  },
  {
   "cell_type": "code",
   "execution_count": 14,
   "id": "0cdba8df-927e-4988-8d13-1a6c534fa74a",
   "metadata": {},
   "outputs": [
    {
     "data": {
      "text/plain": [
       "'dayClip6--00000.jpg'"
      ]
     },
     "execution_count": 14,
     "metadata": {},
     "output_type": "execute_result"
    }
   ],
   "source": [
    "row['Filename'].split('/')[1]"
   ]
  },
  {
   "cell_type": "code",
   "execution_count": null,
   "id": "7812b9b7-a945-4f27-8742-38aaa0953496",
   "metadata": {},
   "outputs": [],
   "source": []
  }
 ],
 "metadata": {
  "kernelspec": {
   "display_name": "Python 3 (ipykernel)",
   "language": "python",
   "name": "python3"
  },
  "language_info": {
   "codemirror_mode": {
    "name": "ipython",
    "version": 3
   },
   "file_extension": ".py",
   "mimetype": "text/x-python",
   "name": "python",
   "nbconvert_exporter": "python",
   "pygments_lexer": "ipython3",
   "version": "3.9.18"
  }
 },
 "nbformat": 4,
 "nbformat_minor": 5
}
